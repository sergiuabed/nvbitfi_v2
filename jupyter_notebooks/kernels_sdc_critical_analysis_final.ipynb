{
 "cells": [
  {
   "cell_type": "markdown",
   "metadata": {},
   "source": [
    "# Analysis of kernels leading to SDC-critical\n",
    "The analysis results obtained in this notebook are used for plotting SDC-critical counts vs kernels"
   ]
  },
  {
   "cell_type": "code",
   "execution_count": 1,
   "metadata": {},
   "outputs": [
    {
     "name": "stdout",
     "output_type": "stream",
     "text": [
      "/media/sergiu/D8989FA0989F7C26/Users/sergi/Documents/thesis_logs/kernels_sdc_critical_counts_dataframes\n"
     ]
    }
   ],
   "source": [
    "#%cd kernels_sdc_critical_counts_dataframes\n",
    "#%cd kernels_sdc_critical_counts_dataframes/counts_dataframes/\n",
    "#%cd kernels_sdc_critical_counts_dataframes/complete_dataframes/\n",
    "%cd kernels_sdc_critical_counts_dataframes/"
   ]
  },
  {
   "cell_type": "code",
   "execution_count": 2,
   "metadata": {},
   "outputs": [],
   "source": [
    "MACHINE = 'workstation' #'laptop' \n",
    "DATASET = 'salinas' #'pavia_uni' 'indianPines'\n",
    "#INSTR_GROUP = 'G_GP' #'G_FP32'\n",
    "PCA = 'PCA10_hardened' #'PCA10' 'PCA7' 'PCA50' "
   ]
  },
  {
   "cell_type": "markdown",
   "metadata": {},
   "source": [
    "## Load dataframes"
   ]
  },
  {
   "cell_type": "code",
   "execution_count": 5,
   "metadata": {},
   "outputs": [],
   "source": [
    "import pandas as pd\n",
    "\n",
    "dataframes_fp32 = pd.HDFStore(f'./complete_dataframes/{MACHINE}_{PCA}_{DATASET}_G_FP32_dataframes.h5')\n",
    "dataframes_gp = pd.HDFStore(f'./complete_dataframes/{MACHINE}_{PCA}_{DATASET}_G_GP_dataframes.h5')\n",
    "\n",
    "counts_fp32 = pd.HDFStore(f'./counts_dataframes/{MACHINE}_{PCA}_{DATASET}_G_FP32_counts.h5')\n",
    "counts_gp = pd.HDFStore(f'./counts_dataframes/{MACHINE}_{PCA}_{DATASET}_G_GP_counts.h5')"
   ]
  },
  {
   "cell_type": "code",
   "execution_count": 6,
   "metadata": {},
   "outputs": [
    {
     "data": {
      "text/plain": [
       "['/kernel_error_counts',\n",
       " '/kernel_masked_counts',\n",
       " '/kernel_sdc_critical_counts',\n",
       " '/kernel_sdc_safe_counts',\n",
       " '/opcode_masked_counts',\n",
       " '/opcode_sdc_critical_counts',\n",
       " '/opcode_sdc_safe_counts',\n",
       " '/register_masked_counts',\n",
       " '/register_sdc_critical_counts',\n",
       " '/register_sdc_safe_counts']"
      ]
     },
     "execution_count": 6,
     "metadata": {},
     "output_type": "execute_result"
    }
   ],
   "source": [
    "counts_fp32.keys()"
   ]
  },
  {
   "cell_type": "markdown",
   "metadata": {},
   "source": [
    "# Convert DUE counts to excel sheets"
   ]
  },
  {
   "cell_type": "code",
   "execution_count": 10,
   "metadata": {},
   "outputs": [],
   "source": [
    "df_sdc_critical_enhanced = {}\n",
    "#for pca in ['PCA7', 'PCA10', 'PCA50']:\n",
    "for pca in ['PCA10_hardened']:\n",
    "    for machine in ['workstation', 'laptop']:\n",
    "        for dataset in ['indianPines', 'pavia_uni', 'salinas']:\n",
    "            #key = f'{machine}_{pca}_{dataset}'\n",
    "\n",
    "            counts_fp32 = pd.HDFStore(f'./counts_dataframes/{machine}_{pca}_{dataset}_G_FP32_counts.h5')\n",
    "            counts_gp = pd.HDFStore(f'./counts_dataframes/{machine}_{pca}_{dataset}_G_GP_counts.h5')\n",
    "\n",
    "            if '/kernel_error_counts' in counts_fp32.keys():\n",
    "                counts_fp32['kernel_error_counts'].to_excel(f'../due_spreadsheets/{machine}_{pca}_{dataset}_G_FP32.xlsx')\n",
    "\n",
    "            if '/kernel_error_counts' in counts_gp.keys():\n",
    "                counts_gp['kernel_error_counts'].to_excel(f'../due_spreadsheets/{machine}_{pca}_{dataset}_G_GP.xlsx')"
   ]
  },
  {
   "cell_type": "code",
   "execution_count": 4,
   "metadata": {},
   "outputs": [
    {
     "data": {
      "text/plain": [
       "['/df_error',\n",
       " '/df_masked',\n",
       " '/df_sdc_critical',\n",
       " '/df_sdc_critical_enhanced',\n",
       " '/df_sdc_safe',\n",
       " '/df_sdc_safe_enhanced']"
      ]
     },
     "execution_count": 4,
     "metadata": {},
     "output_type": "execute_result"
    }
   ],
   "source": [
    "#counts_fp32.keys()\n",
    "dataframes_fp32.keys()"
   ]
  },
  {
   "cell_type": "markdown",
   "metadata": {},
   "source": [
    "# Number of total Masked, SDC-safe, SDC-critical and DUEs"
   ]
  },
  {
   "cell_type": "markdown",
   "metadata": {},
   "source": [
    "G_GP stats"
   ]
  },
  {
   "cell_type": "code",
   "execution_count": null,
   "metadata": {},
   "outputs": [],
   "source": [
    "TOTAL = 1000 # 200\n",
    "\n",
    "if MACHINE == 'laptop' and DATASET in ['salinas', 'pavia_uni']:\n",
    "    TOTAL = 200\n",
    "\n",
    "print(f\"Nr. DUE: {TOTAL - counts_gp['kernel_masked_counts'].sum() - counts_gp['kernel_sdc_safe_counts'].sum() - counts_gp['kernel_sdc_critical_counts'].sum()}\")\n",
    "print(f\"Nr. Masked: {counts_gp['kernel_masked_counts'].sum()}\")\n",
    "print(f\"Nr. SDC-safe: {counts_gp['kernel_sdc_safe_counts'].sum()}\")\n",
    "print(f\"Nr. SDC-critical: {counts_gp['kernel_sdc_critical_counts'].sum()}\")\n",
    "\n",
    "#print(f\"Total: {counts_gp['kernel_error_counts'].sum() + counts_gp['kernel_masked_counts'].sum() + counts_gp['kernel_sdc_safe_counts'].sum() + counts_gp['kernel_sdc_critical_counts'].sum()}\")"
   ]
  },
  {
   "cell_type": "markdown",
   "metadata": {},
   "source": [
    "G_FP32"
   ]
  },
  {
   "cell_type": "code",
   "execution_count": null,
   "metadata": {},
   "outputs": [],
   "source": [
    "TOTAL = 1000 # 200\n",
    "\n",
    "if MACHINE == 'laptop' and DATASET in ['salinas', 'pavia_uni']:\n",
    "    TOTAL = 200\n",
    "\n",
    "print(f\"Nr. DUE: {TOTAL - counts_fp32['kernel_masked_counts'].sum() - counts_fp32['kernel_sdc_safe_counts'].sum() - counts_fp32['kernel_sdc_critical_counts'].sum()}\")\n",
    "print(f\"Nr. Masked: {counts_fp32['kernel_masked_counts'].sum()}\")\n",
    "print(f\"Nr. SDC-safe: {counts_fp32['kernel_sdc_safe_counts'].sum()}\")\n",
    "print(f\"Nr. SDC-critical: {counts_fp32['kernel_sdc_critical_counts'].sum()}\")\n",
    "\n",
    "#print(f\"Total: {counts_gp['kernel_error_counts'].sum() + counts_gp['kernel_masked_counts'].sum() + counts_gp['kernel_sdc_safe_counts'].sum() + counts_gp['kernel_sdc_critical_counts'].sum()}\")"
   ]
  },
  {
   "cell_type": "code",
   "execution_count": 5,
   "metadata": {},
   "outputs": [],
   "source": [
    "df_sdc_critical_enhanced_fp32 = dataframes_fp32['df_sdc_critical_enhanced']\n",
    "df_sdc_critical_enhanced_gp = dataframes_gp['df_sdc_critical_enhanced']"
   ]
  },
  {
   "cell_type": "code",
   "execution_count": 9,
   "metadata": {},
   "outputs": [],
   "source": [
    "df_sdc_critical_enhanced_fp32.to_excel(f'../spreadsheets/df_sdc_critical/{MACHINE}_{PCA}_{DATASET}_G_FP32.xlsx')\n",
    "df_sdc_critical_enhanced_gp.to_excel(f'../spreadsheets/df_sdc_critical/{MACHINE}_{PCA}_{DATASET}_G_GP.xlsx')"
   ]
  },
  {
   "cell_type": "code",
   "execution_count": null,
   "metadata": {},
   "outputs": [],
   "source": [
    "df_sdc_critical_enhanced_fp32[['icount', 'jaccard_similarity', 'logits_degradation', 'accuracy_drop']]"
   ]
  },
  {
   "cell_type": "code",
   "execution_count": null,
   "metadata": {},
   "outputs": [],
   "source": [
    "df_sdc_critical_enhanced_gp[['icount', 'jaccard_similarity', 'logits_degradation', 'accuracy_drop']]"
   ]
  },
  {
   "cell_type": "markdown",
   "metadata": {},
   "source": [
    "# Convert complete SDC-critical pandas dataframes into excel sheets"
   ]
  },
  {
   "cell_type": "code",
   "execution_count": null,
   "metadata": {},
   "outputs": [],
   "source": [
    "#dataframes = pd.HDFStore(f'./complete_dataframes/{MACHINE}_{PCA}_{DATASET}_G_FP32_dataframes.h5')\n",
    "#dataframes_gp = pd.HDFStore(f'./complete_dataframes/{MACHINE}_{PCA}_{DATASET}_G_GP_dataframes.h5')\n",
    "\n",
    "df_sdc_critical_enhanced = {}\n",
    "for pca in ['PCA10_hardened']:#['PCA7', 'PCA10', 'PCA50']:\n",
    "    for machine in ['workstation', 'laptop']:\n",
    "        for dataset in ['indianPines', 'pavia_uni', 'salinas']:\n",
    "\n",
    "            dataframes_fp32 = pd.HDFStore(f'./complete_dataframes/{machine}_{pca}_{dataset}_G_FP32_dataframes.h5')\n",
    "            dataframes_gp = pd.HDFStore(f'./complete_dataframes/{machine}_{pca}_{dataset}_G_GP_dataframes.h5')\n",
    "\n",
    "            dataframes_fp32['df_sdc_critical_enhanced'].to_excel(f'../spreadsheets/df_sdc_critical/{machine}_{pca}_{dataset}_G_FP32.xlsx')\n",
    "            dataframes_gp['df_sdc_critical_enhanced'].to_excel(f'../spreadsheets/df_sdc_critical/{machine}_{pca}_{dataset}_G_GP.xlsx')\n",
    "            "
   ]
  },
  {
   "cell_type": "markdown",
   "metadata": {},
   "source": [
    "# SDC-critical counts per kernel and instruction group"
   ]
  },
  {
   "cell_type": "code",
   "execution_count": 4,
   "metadata": {},
   "outputs": [],
   "source": [
    "kernel_sdc_critical_table = pd.concat([counts_fp32['kernel_sdc_critical_counts'], counts_gp['kernel_sdc_critical_counts']], axis=1).rename_axis(None, axis=0)\n",
    "\n",
    "kernel_sdc_critical_table = kernel_sdc_critical_table.rename({'count': 'SDC_critical (G_FP32)', 'count': 'SDC_critical (G_GP)'}, axis=1).fillna(0)\n",
    "\n",
    "#counts_fp32['kernel_sdc_critical_counts'].rename_axis(None)"
   ]
  },
  {
   "cell_type": "markdown",
   "metadata": {},
   "source": [
    "Convert dataframe to excel sheet"
   ]
  },
  {
   "cell_type": "code",
   "execution_count": 5,
   "metadata": {},
   "outputs": [],
   "source": [
    "kernel_sdc_critical_table.to_excel(f'../spreadsheets/{MACHINE}_{PCA}_{DATASET}.xlsx')"
   ]
  },
  {
   "cell_type": "markdown",
   "metadata": {},
   "source": [
    "# Other details"
   ]
  },
  {
   "cell_type": "code",
   "execution_count": 9,
   "metadata": {},
   "outputs": [],
   "source": [
    "df_error = store_fp32['df_error']\n",
    "df_masked = store_fp32['df_masked']\n",
    "df_sdc_critical = store_fp32['df_sdc_critical']\n",
    "df_sdc_safe = store_fp32['df_sdc_safe']"
   ]
  },
  {
   "cell_type": "code",
   "execution_count": 5,
   "metadata": {},
   "outputs": [],
   "source": [
    "df_sdc_critical_fp32 = store_fp32['kernel_sdc_critical_counts']\n",
    "df_sdc_safe_fp32 = store_fp32['kernel_sdc_safe_counts']\n",
    "df_masked_fp32 = store_fp32['kernel_masked_counts']\n",
    "df_error_counts_fp32 = store_fp32['kernel_error_counts']\n",
    "\n",
    "df_sdc_critical_gp = store_gp['kernel_sdc_critical_counts']\n",
    "df_sdc_safe_gp = store_gp['kernel_sdc_safe_counts']\n",
    "df_masked_gp = store_gp['kernel_masked_counts']\n",
    "df_error_counts_gp = store_gp['kernel_error_counts']"
   ]
  },
  {
   "cell_type": "code",
   "execution_count": null,
   "metadata": {},
   "outputs": [],
   "source": [
    "#partial = df_sdc_critical_fp32.add(df_sdc_safe_fp32, fill_value=0)\n",
    "#kernel_targeted_counts = partial.add(df_masked_fp32, fill_value=0)\n",
    "#kernel_targeted_counts\n",
    "\n",
    "partial = df_sdc_critical_gp.add(df_sdc_safe_gp, fill_value=0)\n",
    "kernel_targeted_counts = partial.add(df_masked_gp, fill_value=0)\n",
    "kernel_targeted_counts"
   ]
  },
  {
   "cell_type": "code",
   "execution_count": 13,
   "metadata": {},
   "outputs": [
    {
     "data": {
      "text/plain": [
       "inspecting\n",
       "cupy_concatenate                             1\n",
       "enable_if                                  145\n",
       "nchwToNhwcKernel                             1\n",
       "nhwckrsc_nhwc_tilesize128x128x16_stage4      2\n",
       "voidaxpy_kernel_val                          5\n",
       "voidgemv2N_kernel                            2\n",
       "voidgemv2N_kernel_VER3                       2\n",
       "voidger_kernel                              12\n",
       "voidimplicit_convolveNd_sgemm                3\n",
       "voidnrm2_kernel                              1\n",
       "Name: count, dtype: int64"
      ]
     },
     "execution_count": 13,
     "metadata": {},
     "output_type": "execute_result"
    }
   ],
   "source": [
    "df_sdc_critical_gp"
   ]
  },
  {
   "cell_type": "code",
   "execution_count": 15,
   "metadata": {},
   "outputs": [
    {
     "data": {
      "text/plain": [
       "inspecting\n",
       "ampere_sgemm_32x32_sliced1x4_tn              3\n",
       "cupy_concatenate                             9\n",
       "elementwise_kernel                           2\n",
       "elementwise_kernel_VER2                     14\n",
       "enable_if                                   29\n",
       "nchwToNhwcKernel                            14\n",
       "nhwcToNchwKernel                             2\n",
       "nhwckrsc_nhwc_tilesize128x128x16_stage4     14\n",
       "vectorized_elementwise_kernel                2\n",
       "voidgemv2N_kernel_VER3                       1\n",
       "voidimplicit_convolveNd_sgemm              135\n",
       "voidnrm2_kernel                              1\n",
       "Name: count, dtype: int64"
      ]
     },
     "execution_count": 15,
     "metadata": {},
     "output_type": "execute_result"
    }
   ],
   "source": [
    "#df_sdc_critical_fp32\n",
    "#df_masked_fp32\n",
    "df_sdc_safe_gp"
   ]
  },
  {
   "cell_type": "code",
   "execution_count": 16,
   "metadata": {},
   "outputs": [
    {
     "data": {
      "text/plain": [
       "inspecting\n",
       "enable_if                                   61\n",
       "nchwToNhwcKernel                             1\n",
       "nhwckrsc_nhwc_tilesize128x128x16_stage4      1\n",
       "voidaxpy_kernel_val                          7\n",
       "voidgemv2N_kernel                            2\n",
       "voidgemvNSP_kernel                         133\n",
       "voidger_kernel                              12\n",
       "voidimplicit_convolveNd_sgemm                1\n",
       "Name: count, dtype: int64"
      ]
     },
     "execution_count": 16,
     "metadata": {},
     "output_type": "execute_result"
    }
   ],
   "source": [
    "df_sdc_critical_gp"
   ]
  },
  {
   "cell_type": "code",
   "execution_count": 7,
   "metadata": {},
   "outputs": [],
   "source": [
    "import pandas as pd\n",
    "\n",
    "store = pd.HDFStore(f'./{MACHINE}_{DATASET}_{INSTR_GROUP}_counts.h5')\n",
    "\n",
    "#kernels\n",
    "kernel_sdc_critical_counts = store['kernel_sdc_critical_counts']\n",
    "kernel_sdc_safe_counts = store['kernel_sdc_safe_counts']\n",
    "kernel_masked_counts = store['kernel_masked_counts']\n",
    "kernel_error_counts = store['kernel_error_counts']\n",
    "\n",
    "#opcodes\n",
    "opcode_sdc_critical_counts = store['opcode_sdc_critical_counts']\n",
    "opcode_sdc_safe_counts = store['opcode_sdc_safe_counts']\n",
    "opcode_masked_counts = store['opcode_masked_counts']\n",
    "opcode_error_counts = store['opcode_error_counts']\n",
    "\n",
    "#registers\n",
    "register_sdc_critical_counts = store['register_sdc_critical_counts']\n",
    "register_sdc_safe_counts = store['register_sdc_safe_counts']\n",
    "register_masked_counts = store['register_masked_counts']\n",
    "register_error_counts = store['register_error_counts']"
   ]
  },
  {
   "cell_type": "markdown",
   "metadata": {},
   "source": [
    "## SDC-critical kernels"
   ]
  },
  {
   "cell_type": "code",
   "execution_count": 9,
   "metadata": {},
   "outputs": [
    {
     "data": {
      "text/plain": [
       "inspecting\n",
       "elementwise_kernel_VER1                              1\n",
       "maxwell_scudnn_128x32_3dconv_fprop_medium_nn_v0      2\n",
       "maxwell_scudnn_128x32_3dconv_fprop_small_nn_v0       1\n",
       "voidaxpy_kernel_val                                  2\n",
       "voidgemv2N_kernel_VER1                             120\n",
       "voidgemv2N_kernel_VER3                               4\n",
       "voidgemv2T_kernel_val_VER1                          90\n",
       "voidger_kernel                                       5\n",
       "voidscal_kernel_val                                  2\n",
       "Name: count, dtype: int64"
      ]
     },
     "execution_count": 9,
     "metadata": {},
     "output_type": "execute_result"
    }
   ],
   "source": [
    "kernel_sdc_critical_counts"
   ]
  },
  {
   "cell_type": "code",
   "execution_count": 8,
   "metadata": {},
   "outputs": [
    {
     "data": {
      "text/plain": [
       "opcode\n",
       "FADD        1\n",
       "FFMA       45\n",
       "FMUL        3\n",
       "IADD       45\n",
       "IADD32I    13\n",
       "IMNMX       3\n",
       "ISCADD     13\n",
       "LDG        39\n",
       "LDS        22\n",
       "LEA        13\n",
       "MOV         8\n",
       "S2R         3\n",
       "SHL         5\n",
       "VMNMX       1\n",
       "XMAD       13\n",
       "Name: count, dtype: int64"
      ]
     },
     "execution_count": 8,
     "metadata": {},
     "output_type": "execute_result"
    }
   ],
   "source": [
    "opcode_sdc_critical_counts"
   ]
  },
  {
   "cell_type": "code",
   "execution_count": null,
   "metadata": {},
   "outputs": [],
   "source": [
    "#kernel_sdc_critical_counts\n",
    "#kernel_sdc_safe_counts\n",
    "#kernel_masked_counts\n",
    "#kernel_error_counts\n",
    "\n",
    "opcode_sdc_critical_counts\n",
    "#opcode_sdc_safe_counts\n",
    "#opcode_masked_counts\n",
    "#opcode_error_counts\n",
    "\n",
    "#register_sdc_critical_counts\n",
    "#register_sdc_safe_counts\n",
    "#register_masked_counts\n",
    "#register_error_counts"
   ]
  }
 ],
 "metadata": {
  "kernelspec": {
   "display_name": "analysis",
   "language": "python",
   "name": "python3"
  },
  "language_info": {
   "codemirror_mode": {
    "name": "ipython",
    "version": 3
   },
   "file_extension": ".py",
   "mimetype": "text/x-python",
   "name": "python",
   "nbconvert_exporter": "python",
   "pygments_lexer": "ipython3",
   "version": "3.9.7"
  }
 },
 "nbformat": 4,
 "nbformat_minor": 2
}
